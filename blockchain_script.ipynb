{
 "cells": [
  {
   "cell_type": "code",
   "execution_count": 2,
   "metadata": {},
   "outputs": [],
   "source": [
    "import subprocess\n",
    "import json\n",
    "import os\n",
    "from web3 import Web3\n",
    "from dotenv import load_dotenv\n",
    "from web3.middleware import geth_poa_middleware\n",
    "from eth_account import Account\n",
    "from bit import *\n",
    "\n",
    "from pathlib import Path\n",
    "from getpass import getpass"
   ]
  },
  {
   "cell_type": "code",
   "execution_count": 3,
   "metadata": {},
   "outputs": [],
   "source": [
    "load_dotenv()\n",
    "from constants import *\n",
    "w3 = Web3(Web3.HTTPProvider(\"http://127.0.0.1:8545\"))\n",
    "mnemonic = os.getenv('MNEMONIC')"
   ]
  },
  {
   "cell_type": "code",
   "execution_count": 6,
   "metadata": {},
   "outputs": [],
   "source": [
    "def derive_wallets(mnenomicvariable, coinname, num):\n",
    "    x = './wallet/derive -g --mnemonic=\"' + mnenomicvariable + '\" --format=json --coin=' + coinname + ' --numderive='+ str(num) + ' --cols=path,index,address,privkey,pubkey'\n",
    "    p = subprocess.Popen(x, stdout=subprocess.PIPE, shell=True)\n",
    "    (output, err) = p.communicate()\n",
    "    p_status = p.wait()\n",
    "    accounts = json.loads(output)\n",
    "    return accounts"
   ]
  },
  {
   "cell_type": "code",
   "execution_count": 7,
   "metadata": {},
   "outputs": [
    {
     "data": {
      "text/plain": [
       "'cNUYRV2EeXXvw9zQCwJ1EwidF334onHozbtzjZ1uXbhAZdwa9Yyu'"
      ]
     },
     "execution_count": 7,
     "metadata": {},
     "output_type": "execute_result"
    }
   ],
   "source": [
    "derive_wallets(mnemonic, 'btc-test', 4)[3]['privkey']"
   ]
  },
  {
   "cell_type": "code",
   "execution_count": 7,
   "metadata": {},
   "outputs": [],
   "source": [
    "coins = {'btc': derive_wallets(mnemonic, 'btc', 4),\n",
    "        'btc-test': derive_wallets(mnemonic, 'btc-test', 4),\n",
    "        'eth': derive_wallets(mnemonic, 'eth', 4)}"
   ]
  },
  {
   "cell_type": "code",
   "execution_count": 8,
   "metadata": {},
   "outputs": [
    {
     "name": "stdout",
     "output_type": "stream",
     "text": [
      "{\n",
      "  \"btc\": [\n",
      "    {\n",
      "      \"path\": \"m/44'/0'/0'/0/0\",\n",
      "      \"index\": 0,\n",
      "      \"address\": \"1H18pDC4WTRZwm1hCJGNtpSug77PksmDCn\",\n",
      "      \"privkey\": \"KzRJLkBeGt1fA5tFjJZDeRFSevBuARRKvD5SpZYjLn9omDs1Ef5C\",\n",
      "      \"pubkey\": \"0369f4bbad769e95aa34c00ec0fafed9fd5ab86712c862d346c01b404ee7b004be\"\n",
      "    },\n",
      "    {\n",
      "      \"path\": \"m/44'/0'/0'/0/1\",\n",
      "      \"index\": 1,\n",
      "      \"address\": \"1LcHvrJXEhbUvUcZAGZQASUrQamjpKahhD\",\n",
      "      \"privkey\": \"L3dTELkRCPvaaEGBwZvG2ko1wJ43RFbsvcmwJ4DNAmUu3kG1ckZV\",\n",
      "      \"pubkey\": \"02a2381866fccc2ee18fa69187f3317882b595935f55c1efe2048df2373b79011e\"\n",
      "    },\n",
      "    {\n",
      "      \"path\": \"m/44'/0'/0'/0/2\",\n",
      "      \"index\": 2,\n",
      "      \"address\": \"1CPYfsFZ4KiRUSB6GQcUZyKRiS49oRmZ3k\",\n",
      "      \"privkey\": \"L5AEAqU99PtoMDmtW6y7USJZX7m7PHJ6PTkNJJaA1Cwk1QRNkVc1\",\n",
      "      \"pubkey\": \"025ba6d2822d6d9febbceca6c6d097e6d16c5c1aa0b07d3aeb59d4ac5a5fe52dbf\"\n",
      "    },\n",
      "    {\n",
      "      \"path\": \"m/44'/0'/0'/0/3\",\n",
      "      \"index\": 3,\n",
      "      \"address\": \"1EKzLVUJuGH4Vj8JSD2njAAXHR2aYX2VjQ\",\n",
      "      \"privkey\": \"Ky5w13BmawNMzRxRYLYTwtT9TUdeEzrVvNmFcLKKwtMzXzUYwAio\",\n",
      "      \"pubkey\": \"02e28163841387e253a6982aca5f05eeb049db1eed5c7394d02a4cc3f8a66e9021\"\n",
      "    }\n",
      "  ],\n",
      "  \"btc-test\": [\n",
      "    {\n",
      "      \"path\": \"m/44'/1'/0'/0/0\",\n",
      "      \"index\": 0,\n",
      "      \"address\": \"mpB463ctKh1qjTK3WdSxB8W12hwCsRnFni\",\n",
      "      \"privkey\": \"cRvQ4eeSxQ6KpbToteWFUHeGgFur5kS4Xs9HrtbJDkhjNLwpDQns\",\n",
      "      \"pubkey\": \"02aee9425592da91061e9fe742796154f01a8596931c42a218b47598ef428e709b\"\n",
      "    },\n",
      "    {\n",
      "      \"path\": \"m/44'/1'/0'/0/1\",\n",
      "      \"index\": 1,\n",
      "      \"address\": \"mp2SiKijo1ew4HdGPe5VcfPHELstJBjVVp\",\n",
      "      \"privkey\": \"cU5dxG26226sDiJDor2Pqfpkh7UFKBtSZNNEcLsCbKBAKJrjxnAA\",\n",
      "      \"pubkey\": \"02d41e2bc1aa0f92e0f0ded0d6da72d0306252a77d57d01a5d836df16e933651c8\"\n",
      "    },\n",
      "    {\n",
      "      \"path\": \"m/44'/1'/0'/0/2\",\n",
      "      \"index\": 2,\n",
      "      \"address\": \"mz7HXtMCYCyJTDhvCMPar69HmGRaNMbaSZ\",\n",
      "      \"privkey\": \"cTk3vtLyrjauh1FJSMQSevvrun2sHK1ez4FxHzCwTJWjqWcoiEjM\",\n",
      "      \"pubkey\": \"02be26efc719235b22c756df4b2237547c3270a431a0d56ea2452afd717f47c36a\"\n",
      "    },\n",
      "    {\n",
      "      \"path\": \"m/44'/1'/0'/0/3\",\n",
      "      \"index\": 3,\n",
      "      \"address\": \"moVt5wX3JPkQ7hfcTkkD1LNpkvbTAMKffS\",\n",
      "      \"privkey\": \"cNUYRV2EeXXvw9zQCwJ1EwidF334onHozbtzjZ1uXbhAZdwa9Yyu\",\n",
      "      \"pubkey\": \"03fd39cec6df0926bfeb21c0ed947973b58809d2b273b871279c4c563aedadfaee\"\n",
      "    }\n",
      "  ],\n",
      "  \"eth\": [\n",
      "    {\n",
      "      \"path\": \"m/44'/60'/0'/0/0\",\n",
      "      \"index\": 0,\n",
      "      \"address\": \"0xdc8fA0017df2e333be878Ca99d52322eB0abaCbd\",\n",
      "      \"privkey\": \"0x3e7a846008505a44f64c5cea68df6a6908fbb43ac297fa1bc48d242c73c15834\",\n",
      "      \"pubkey\": \"02fe25a40fd126c25897946e57d7ec42d33e3d9ea90a368391847141f041b2b0d4\"\n",
      "    },\n",
      "    {\n",
      "      \"path\": \"m/44'/60'/0'/0/1\",\n",
      "      \"index\": 1,\n",
      "      \"address\": \"0x4E0E77711107cCD2aE3a47f02e73Faf5f2E28DF1\",\n",
      "      \"privkey\": \"0x04aa5874f6f814de62674ab2a3548edf755e5b1e26883833368f3782d7457272\",\n",
      "      \"pubkey\": \"0310371f24656fedcfb9e49e0eeaf6e527893d3582602689068440ef1abdeaea60\"\n",
      "    },\n",
      "    {\n",
      "      \"path\": \"m/44'/60'/0'/0/2\",\n",
      "      \"index\": 2,\n",
      "      \"address\": \"0x6EBEb002aaA596b3164C9A1a50cc0d93FDF142Cd\",\n",
      "      \"privkey\": \"0xa5947866c3b15d2ab3600e198febc638efa2a78315e5298c347d4f7f1e7f3aca\",\n",
      "      \"pubkey\": \"02bda3579aeef1630968dc25bd07be9de86a2ed035217669d92316d81a2eb6152c\"\n",
      "    },\n",
      "    {\n",
      "      \"path\": \"m/44'/60'/0'/0/3\",\n",
      "      \"index\": 3,\n",
      "      \"address\": \"0x22C5b0FDeC24947524dd951ACF42564249A3409b\",\n",
      "      \"privkey\": \"0x7adddf1443a0ddf9668e38038b4ac82a926dbd519f9c9ad2821abdaf4cbb6d09\",\n",
      "      \"pubkey\": \"02995b6fe26b71e722e630108820c8c4bf9e2c0159e8a832274d027ba1a4e03a2f\"\n",
      "    }\n",
      "  ]\n",
      "}\n"
     ]
    }
   ],
   "source": [
    "print(json.dumps(coins, indent=2))"
   ]
  },
  {
   "cell_type": "code",
   "execution_count": 9,
   "metadata": {},
   "outputs": [
    {
     "data": {
      "text/plain": [
       "'KzRJLkBeGt1fA5tFjJZDeRFSevBuARRKvD5SpZYjLn9omDs1Ef5C'"
      ]
     },
     "execution_count": 9,
     "metadata": {},
     "output_type": "execute_result"
    }
   ],
   "source": [
    "coins['btc'][0]['privkey']"
   ]
  },
  {
   "cell_type": "code",
   "execution_count": 10,
   "metadata": {},
   "outputs": [],
   "source": [
    "def priv_key_to_account(coin, priv_key):\n",
    "    if coin == 'eth':\n",
    "        return Account.privateKeyToAccount(priv_key)\n",
    "    elif coin == 'btc-test': # or 'btc':\n",
    "        return PrivateKeyTestnet(priv_key)\n",
    "#    For ETH, return Account.privateKeyToAccount(priv_key)\n",
    "#    For BTCTEST, return PrivateKeyTestnet(priv_key)"
   ]
  },
  {
   "cell_type": "code",
   "execution_count": 11,
   "metadata": {},
   "outputs": [
    {
     "data": {
      "text/plain": [
       "<eth_account.signers.local.LocalAccount at 0x112c3e790>"
      ]
     },
     "execution_count": 11,
     "metadata": {},
     "output_type": "execute_result"
    }
   ],
   "source": [
    "priv_key_to_account('eth', coins['eth'][0]['privkey'] )"
   ]
  },
  {
   "cell_type": "code",
   "execution_count": 12,
   "metadata": {},
   "outputs": [
    {
     "data": {
      "text/plain": [
       "<PrivateKeyTestnet: mpB463ctKh1qjTK3WdSxB8W12hwCsRnFni>"
      ]
     },
     "execution_count": 12,
     "metadata": {},
     "output_type": "execute_result"
    }
   ],
   "source": [
    "priv_key_to_account('btc-test', coins['btc-test'][0]['privkey'])"
   ]
  },
  {
   "cell_type": "code",
   "execution_count": 13,
   "metadata": {},
   "outputs": [],
   "source": [
    "def create_tx(coin, account, recipient, amount):\n",
    "    if coin == 'eth':\n",
    "        gasEstimate = w3.eth.estimateGas(\n",
    "            {\"from\": account.address, \"to\": recipient, \"value\": amount}\n",
    "        )\n",
    "        return {\n",
    "            \"from\": account.address,\n",
    "            \"to\": recipient,\n",
    "            \"value\": amount,\n",
    "            \"gasPrice\": w3.eth.gasPrice,\n",
    "            \"gas\": gasEstimate,\n",
    "            \"nonce\": w3.eth.getTransactionCount(account.address),\n",
    "        }\n",
    "    elif coin == 'btc-test': #or 'btc':\n",
    "        return PrivateKeyTestnet.prepare_transaction(account.address, [(recipient, amount, 'btc')])"
   ]
  },
  {
   "cell_type": "code",
   "execution_count": 14,
   "metadata": {},
   "outputs": [],
   "source": [
    "def send_tx(coin, account, recipient, amount):\n",
    "    tx = create_tx(coin, account, recipient, amount)\n",
    "    signed_tx = account.sign_transaction(tx)\n",
    "    if coin == 'eth':\n",
    "        return w3.eth.sendRawTransaction(signed_tx.rawTransaction)\n",
    "    elif coin == 'btc-test': # or 'btc':\n",
    "        return NetworkAPI.broadcast_tx_testnet(signed_tx)"
   ]
  },
  {
   "cell_type": "code",
   "execution_count": 16,
   "metadata": {},
   "outputs": [
    {
     "data": {
      "text/plain": [
       "{'from': '0xdc8fA0017df2e333be878Ca99d52322eB0abaCbd',\n",
       " 'to': '0x22C5b0FDeC24947524dd951ACF42564249A3409b',\n",
       " 'value': 0,\n",
       " 'gasPrice': 20000000000,\n",
       " 'gas': 21000,\n",
       " 'nonce': 0}"
      ]
     },
     "execution_count": 16,
     "metadata": {},
     "output_type": "execute_result"
    }
   ],
   "source": [
    "create_tx('eth', priv_key_to_account('eth', coins['eth'][0]['privkey']), '0x22C5b0FDeC24947524dd951ACF42564249A3409b', 0)"
   ]
  },
  {
   "cell_type": "code",
   "execution_count": 17,
   "metadata": {},
   "outputs": [
    {
     "data": {
      "text/plain": [
       "HexBytes('0x309d346aa238956a5ff1fdd25e293c3beaa03a8ca84f232a31919dea59da7a82')"
      ]
     },
     "execution_count": 17,
     "metadata": {},
     "output_type": "execute_result"
    }
   ],
   "source": [
    "send_tx('eth', priv_key_to_account('eth', coins['eth'][0]['privkey']), '0x22C5b0FDeC24947524dd951ACF42564249A3409b', 0)"
   ]
  },
  {
   "cell_type": "code",
   "execution_count": null,
   "metadata": {},
   "outputs": [],
   "source": []
  },
  {
   "cell_type": "code",
   "execution_count": null,
   "metadata": {},
   "outputs": [],
   "source": []
  },
  {
   "cell_type": "code",
   "execution_count": null,
   "metadata": {},
   "outputs": [],
   "source": []
  }
 ],
 "metadata": {
  "kernelspec": {
   "display_name": "Python 3",
   "language": "python",
   "name": "python3"
  },
  "language_info": {
   "codemirror_mode": {
    "name": "ipython",
    "version": 3
   },
   "file_extension": ".py",
   "mimetype": "text/x-python",
   "name": "python",
   "nbconvert_exporter": "python",
   "pygments_lexer": "ipython3",
   "version": "3.7.4"
  }
 },
 "nbformat": 4,
 "nbformat_minor": 4
}
