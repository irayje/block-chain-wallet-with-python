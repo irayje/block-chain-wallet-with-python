{
 "cells": [
  {
   "cell_type": "code",
   "execution_count": 1,
   "metadata": {},
   "outputs": [],
   "source": [
    "import subprocess"
   ]
  },
  {
   "cell_type": "code",
   "execution_count": 2,
   "metadata": {},
   "outputs": [],
   "source": [
    "import json"
   ]
  },
  {
   "cell_type": "code",
   "execution_count": 21,
   "metadata": {},
   "outputs": [],
   "source": [
    "import os\n",
    "from web3 import Web3\n",
    "from dotenv import load_dotenv\n",
    "from web3.middleware import geth_poa_middleware\n",
    "from eth_account import Account\n",
    "\n",
    "from pathlib import Path\n",
    "from getpass import getpass"
   ]
  },
  {
   "cell_type": "raw",
   "metadata": {},
   "source": [
    "from bit import wif_to_key\n",
    "\n",
    "key = wif_to_key(\"slide surprise fit peace ugly episode ignore ozone oil foster noise mushroom gorilla vivid foot\")"
   ]
  },
  {
   "cell_type": "code",
   "execution_count": 14,
   "metadata": {},
   "outputs": [],
   "source": [
    "#mnemonic = os.getenv('MNEMONIC', 'slide surprise fit peace ugly episode ignore ozone oil foster noise mushroom gorilla vivid foot')"
   ]
  },
  {
   "cell_type": "code",
   "execution_count": 58,
   "metadata": {},
   "outputs": [],
   "source": [
    "mnemonic = 'slide surprise fit peace ugly episode ignore ozone oil foster noise mushroom gorilla vivid foot'"
   ]
  },
  {
   "cell_type": "code",
   "execution_count": 34,
   "metadata": {},
   "outputs": [],
   "source": [
    "x = './wallet/derive -g --mnemonic=\"slide surprise fit peace ugly episode ignore ozone oil foster noise mushroom gorilla vivid foot\" --format=json --coin=btc --numderive=4  --cols=path,address,privkey,pubkey'"
   ]
  },
  {
   "cell_type": "code",
   "execution_count": 35,
   "metadata": {},
   "outputs": [],
   "source": [
    "p = subprocess.Popen(x, stdout=subprocess.PIPE, shell=True)"
   ]
  },
  {
   "cell_type": "code",
   "execution_count": 36,
   "metadata": {},
   "outputs": [],
   "source": [
    "(output, err) = p.communicate()"
   ]
  },
  {
   "cell_type": "code",
   "execution_count": 37,
   "metadata": {},
   "outputs": [],
   "source": [
    "p_status = p.wait()"
   ]
  },
  {
   "cell_type": "code",
   "execution_count": 38,
   "metadata": {},
   "outputs": [
    {
     "name": "stdout",
     "output_type": "stream",
     "text": [
      "b'\\n[{\"path\":\"m\\\\/44\\'\\\\/0\\'\\\\/0\\'\\\\/0\\\\/0\",\"address\":\"1CnQ9XBafn27z9jEpNAg6mW4JjX2A8vDkk\",\"privkey\":\"KzRbRwqLgzcqyLa5wYzVcTv1gFDfGT8x3ggWrttiBBexjMTAWPPG\",\"pubkey\":\"03f077d2139da0101ab8ccd9d0078b923b00b22b95a62801a779529f803694ec15\"},{\"path\":\"m\\\\/44\\'\\\\/0\\'\\\\/0\\'\\\\/0\\\\/1\",\"address\":\"1Li6ciKqkLGTszibgFmGuKXo2yk5vXWKz4\",\"privkey\":\"L3dCf32j4owDB872EEXqWSpDcQoCGiq8Q2v3xgDJeNti8NS57Q6s\",\"pubkey\":\"021ed88f1dc3f2b26db3feadcf2b8dfbe8e39ca3925c57139016edffc03579b332\"},{\"path\":\"m\\\\/44\\'\\\\/0\\'\\\\/0\\'\\\\/0\\\\/2\",\"address\":\"1PUMxFo4NHiCubqLRMp2bJEAP6sSYsEprs\",\"privkey\":\"L24BDAvg7MY4obCFCMZL8mnW1Zk5FYzzAcko6h4RvzPY4evMkR4w\",\"pubkey\":\"02a0d69e4f2828111c1a101f0db9823a3e5d781c42dfa3eca3edef2e4be438c06e\"},{\"path\":\"m\\\\/44\\'\\\\/0\\'\\\\/0\\'\\\\/0\\\\/3\",\"address\":\"1JwHioXYKJFrnF1VwWVbeVKmpTwmyneYWv\",\"privkey\":\"KxQrvSQUve4hofpzk4FB8HhDq4D11FsYZa3h6c5nrAqJ6ULwds3f\",\"pubkey\":\"02f147b3862c5840ca617c5b4d7baa17a5b4e7e5788f456de9a7d15c5a62bdb9f6\"}]'\n"
     ]
    }
   ],
   "source": [
    "print(output)"
   ]
  },
  {
   "cell_type": "code",
   "execution_count": 42,
   "metadata": {},
   "outputs": [
    {
     "data": {
      "text/plain": [
       "b'\\n[{\"path\":\"m\\\\/44\\'\\\\/0\\'\\\\/0\\'\\\\/0\\\\/0\",\"address\":\"1CnQ9XBafn27z9jEpNAg6mW4JjX2A8vDkk\",\"privkey\":\"KzRbRwqLgzcqyLa5wYzVcTv1gFDfGT8x3ggWrttiBBexjMTAWPPG\",\"pubkey\":\"03f077d2139da0101ab8ccd9d0078b923b00b22b95a62801a779529f803694ec15\"},{\"path\":\"m\\\\/44\\'\\\\/0\\'\\\\/0\\'\\\\/0\\\\/1\",\"address\":\"1Li6ciKqkLGTszibgFmGuKXo2yk5vXWKz4\",\"privkey\":\"L3dCf32j4owDB872EEXqWSpDcQoCGiq8Q2v3xgDJeNti8NS57Q6s\",\"pubkey\":\"021ed88f1dc3f2b26db3feadcf2b8dfbe8e39ca3925c57139016edffc03579b332\"},{\"path\":\"m\\\\/44\\'\\\\/0\\'\\\\/0\\'\\\\/0\\\\/2\",\"address\":\"1PUMxFo4NHiCubqLRMp2bJEAP6sSYsEprs\",\"privkey\":\"L24BDAvg7MY4obCFCMZL8mnW1Zk5FYzzAcko6h4RvzPY4evMkR4w\",\"pubkey\":\"02a0d69e4f2828111c1a101f0db9823a3e5d781c42dfa3eca3edef2e4be438c06e\"},{\"path\":\"m\\\\/44\\'\\\\/0\\'\\\\/0\\'\\\\/0\\\\/3\",\"address\":\"1JwHioXYKJFrnF1VwWVbeVKmpTwmyneYWv\",\"privkey\":\"KxQrvSQUve4hofpzk4FB8HhDq4D11FsYZa3h6c5nrAqJ6ULwds3f\",\"pubkey\":\"02f147b3862c5840ca617c5b4d7baa17a5b4e7e5788f456de9a7d15c5a62bdb9f6\"}]'"
      ]
     },
     "execution_count": 42,
     "metadata": {},
     "output_type": "execute_result"
    }
   ],
   "source": [
    "output"
   ]
  },
  {
   "cell_type": "code",
   "execution_count": 39,
   "metadata": {},
   "outputs": [
    {
     "name": "stdout",
     "output_type": "stream",
     "text": [
      "[{'path': \"m/44'/0'/0'/0/0\", 'address': '1CnQ9XBafn27z9jEpNAg6mW4JjX2A8vDkk', 'privkey': 'KzRbRwqLgzcqyLa5wYzVcTv1gFDfGT8x3ggWrttiBBexjMTAWPPG', 'pubkey': '03f077d2139da0101ab8ccd9d0078b923b00b22b95a62801a779529f803694ec15'}, {'path': \"m/44'/0'/0'/0/1\", 'address': '1Li6ciKqkLGTszibgFmGuKXo2yk5vXWKz4', 'privkey': 'L3dCf32j4owDB872EEXqWSpDcQoCGiq8Q2v3xgDJeNti8NS57Q6s', 'pubkey': '021ed88f1dc3f2b26db3feadcf2b8dfbe8e39ca3925c57139016edffc03579b332'}, {'path': \"m/44'/0'/0'/0/2\", 'address': '1PUMxFo4NHiCubqLRMp2bJEAP6sSYsEprs', 'privkey': 'L24BDAvg7MY4obCFCMZL8mnW1Zk5FYzzAcko6h4RvzPY4evMkR4w', 'pubkey': '02a0d69e4f2828111c1a101f0db9823a3e5d781c42dfa3eca3edef2e4be438c06e'}, {'path': \"m/44'/0'/0'/0/3\", 'address': '1JwHioXYKJFrnF1VwWVbeVKmpTwmyneYWv', 'privkey': 'KxQrvSQUve4hofpzk4FB8HhDq4D11FsYZa3h6c5nrAqJ6ULwds3f', 'pubkey': '02f147b3862c5840ca617c5b4d7baa17a5b4e7e5788f456de9a7d15c5a62bdb9f6'}]\n"
     ]
    }
   ],
   "source": [
    "accounts = json.loads(output)\n",
    "print(accounts)"
   ]
  },
  {
   "cell_type": "code",
   "execution_count": 116,
   "metadata": {},
   "outputs": [
    {
     "data": {
      "text/plain": [
       "{'path': \"m/44'/0'/0'/0/3\",\n",
       " 'address': '1JwHioXYKJFrnF1VwWVbeVKmpTwmyneYWv',\n",
       " 'privkey': 'KxQrvSQUve4hofpzk4FB8HhDq4D11FsYZa3h6c5nrAqJ6ULwds3f',\n",
       " 'pubkey': '02f147b3862c5840ca617c5b4d7baa17a5b4e7e5788f456de9a7d15c5a62bdb9f6'}"
      ]
     },
     "execution_count": 116,
     "metadata": {},
     "output_type": "execute_result"
    }
   ],
   "source": [
    "accounts[3]"
   ]
  },
  {
   "cell_type": "code",
   "execution_count": 117,
   "metadata": {},
   "outputs": [],
   "source": [
    "# --format=json"
   ]
  },
  {
   "cell_type": "code",
   "execution_count": 118,
   "metadata": {},
   "outputs": [],
   "source": [
    "def derive_wallets(mnenomicvariable, coinname, num):\n",
    "    x = './wallet/derive -g --mnemonic=\"' + mnenomicvariable + '\" --format=json --coin=' + coinname + ' --numderive='+ str(num) + ' --cols=path,index,address,privkey,pubkey'\n",
    "    p = subprocess.Popen(x, stdout=subprocess.PIPE, shell=True)\n",
    "    (output, err) = p.communicate()\n",
    "    p_status = p.wait()\n",
    "    accounts = json.loads(output)\n",
    "    return accounts"
   ]
  },
  {
   "cell_type": "code",
   "execution_count": 124,
   "metadata": {},
   "outputs": [
    {
     "data": {
      "text/plain": [
       "'KxQrvSQUve4hofpzk4FB8HhDq4D11FsYZa3h6c5nrAqJ6ULwds3f'"
      ]
     },
     "execution_count": 124,
     "metadata": {},
     "output_type": "execute_result"
    }
   ],
   "source": [
    "derive_wallets(mnemonic, 'btc', 4)[3]['privkey']"
   ]
  },
  {
   "cell_type": "code",
   "execution_count": 186,
   "metadata": {},
   "outputs": [],
   "source": [
    "coins = {'btc': derive_wallets(mnemonic, 'btc', 4),\n",
    "    'eth': derive_wallets(mnemonic, 'eth', 4),\n",
    "    'btctest': derive_wallets(mnemonic, 'btc-test', 4)}"
   ]
  },
  {
   "cell_type": "code",
   "execution_count": 182,
   "metadata": {},
   "outputs": [],
   "source": [
    "#p1 = coins()"
   ]
  },
  {
   "cell_type": "code",
   "execution_count": 183,
   "metadata": {},
   "outputs": [],
   "source": [
    "#p1['btc'][0]['privkey']"
   ]
  },
  {
   "cell_type": "code",
   "execution_count": 187,
   "metadata": {},
   "outputs": [
    {
     "data": {
      "text/plain": [
       "'KzRbRwqLgzcqyLa5wYzVcTv1gFDfGT8x3ggWrttiBBexjMTAWPPG'"
      ]
     },
     "execution_count": 187,
     "metadata": {},
     "output_type": "execute_result"
    }
   ],
   "source": [
    "coins['btc'][0]['privkey']"
   ]
  },
  {
   "cell_type": "code",
   "execution_count": 196,
   "metadata": {},
   "outputs": [],
   "source": [
    "from bit import *"
   ]
  },
  {
   "cell_type": "code",
   "execution_count": 197,
   "metadata": {},
   "outputs": [],
   "source": [
    "def priv_key_to_account(coin, priv_key):\n",
    "    if coin == 'eth':\n",
    "        return Account.privateKeyToAccount(priv_key)\n",
    "    elif coin == 'btctest':\n",
    "        return PrivateKeyTestnet(priv_key)\n",
    "#    For ETH, return Account.privateKeyToAccount(priv_key)\n",
    "#    For BTCTEST, return PrivateKeyTestnet(priv_key)"
   ]
  },
  {
   "cell_type": "code",
   "execution_count": 195,
   "metadata": {},
   "outputs": [
    {
     "data": {
      "text/plain": [
       "<eth_account.signers.local.LocalAccount at 0x108e8f890>"
      ]
     },
     "execution_count": 195,
     "metadata": {},
     "output_type": "execute_result"
    }
   ],
   "source": [
    "priv_key_to_account('eth', coins['eth'][0]['privkey'] )"
   ]
  },
  {
   "cell_type": "code",
   "execution_count": 198,
   "metadata": {},
   "outputs": [
    {
     "data": {
      "text/plain": [
       "<PrivateKeyTestnet: mqKhFUyEY6MKyreiZ316DxxghAUqomgFLU>"
      ]
     },
     "execution_count": 198,
     "metadata": {},
     "output_type": "execute_result"
    }
   ],
   "source": [
    "priv_key_to_account('btctest', coins['btctest'][0]['privkey'] )"
   ]
  },
  {
   "cell_type": "code",
   "execution_count": null,
   "metadata": {},
   "outputs": [],
   "source": [
    "def create_tx:"
   ]
  },
  {
   "cell_type": "code",
   "execution_count": null,
   "metadata": {},
   "outputs": [],
   "source": [
    "def send_tx: "
   ]
  },
  {
   "cell_type": "code",
   "execution_count": null,
   "metadata": {},
   "outputs": [],
   "source": []
  },
  {
   "cell_type": "markdown",
   "metadata": {},
   "source": [
    "Now, we need to use `bit` and `web3.py` to leverage the keys we've got in the `coins` object.\n",
    "You will need to create three more functions:\n",
    "\n",
    "- `create_tx` -- this will create the raw, unsigned transaction that contains all metadata needed to transact.\n",
    "  This function needs the following parameters:\n",
    "\n",
    "  - `coin` -- the coin type (defined in `constants.py`).\n",
    "  - `account` -- the account object from `priv_key_to_account`.\n",
    "  - `to` -- the recipient address.\n",
    "  - `amount` -- the amount of the coin to send.\n",
    "\n",
    "  You will need to check the coin, then return one of the following functions based on the library:\n",
    "\n",
    "  - For `ETH`, return an object containing `to`, `from`, `value`, `gas`, `gasPrice`, `nonce`, and `chainID`.\n",
    "    Make sure to calculate all of these values properly using `web3.py`!\n",
    "  - For `BTCTEST`, return `PrivateKeyTestnet.prepare_transaction(account.address, [(to, amount, BTC)])`\n",
    "\n",
    "- `send_tx` -- this will call `create_tx`, sign the transaction, then send it to the designated network.\n",
    "  This function needs the following parameters:\n",
    "\n",
    "  - `coin` -- the coin type (defined in `constants.py`).\n",
    "  - `account` -- the account object from `priv_key_to_account`.\n",
    "  - `to` -- the recipient address.\n",
    "  - `amount` -- the amount of the coin to send.\n",
    "\n",
    "  You may notice these are the exact same parameters as `create_tx`. `send_tx` will call `create_tx`, so it needs\n",
    "  all of this information available.\n",
    "\n",
    "  You will need to check the coin, then create a `raw_tx` object by calling `create_tx`. Then, you will need to sign\n",
    "  the `raw_tx` using `bit` or `web3.py` (hint: the account objects have a sign transaction function within).\n",
    "\n",
    "  Once you've signed the transaction, you will need to send it to the designated blockchain network.\n",
    "\n",
    "  - For `ETH`, return `w3.eth.sendRawTransaction(signed.rawTransaction)`\n",
    "  - For `BTCTEST`, return `NetworkAPI.broadcast_tx_testnet(signed)`"
   ]
  },
  {
   "cell_type": "code",
   "execution_count": null,
   "metadata": {},
   "outputs": [],
   "source": []
  }
 ],
 "metadata": {
  "kernelspec": {
   "display_name": "Python 3",
   "language": "python",
   "name": "python3"
  },
  "language_info": {
   "codemirror_mode": {
    "name": "ipython",
    "version": 3
   },
   "file_extension": ".py",
   "mimetype": "text/x-python",
   "name": "python",
   "nbconvert_exporter": "python",
   "pygments_lexer": "ipython3",
   "version": "3.7.4"
  }
 },
 "nbformat": 4,
 "nbformat_minor": 4
}
