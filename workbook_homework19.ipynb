{
 "cells": [
  {
   "cell_type": "code",
   "execution_count": 1,
   "metadata": {},
   "outputs": [],
   "source": [
    "import subprocess"
   ]
  },
  {
   "cell_type": "code",
   "execution_count": 2,
   "metadata": {},
   "outputs": [],
   "source": [
    "import json"
   ]
  },
  {
   "cell_type": "code",
   "execution_count": 3,
   "metadata": {},
   "outputs": [],
   "source": [
    "mnemonic = 'earn fragile garage daughter cinnamon embody uncle cruel ginger train pig tape'"
   ]
  },
  {
   "cell_type": "code",
   "execution_count": 53,
   "metadata": {},
   "outputs": [],
   "source": [
    "x = './wallet/derive -g --mnemonic=\"slide surprise fit peace ugly episode ignore ozone oil foster noise mushroom gorilla vivid foot\" --format=json --cols=path,address,privkey,pubkey'"
   ]
  },
  {
   "cell_type": "code",
   "execution_count": 54,
   "metadata": {},
   "outputs": [],
   "source": [
    "p = subprocess.Popen(x, stdout=subprocess.PIPE, shell=True)"
   ]
  },
  {
   "cell_type": "code",
   "execution_count": 55,
   "metadata": {},
   "outputs": [],
   "source": [
    "(output, err) = p.communicate()"
   ]
  },
  {
   "cell_type": "code",
   "execution_count": 56,
   "metadata": {},
   "outputs": [],
   "source": [
    "p_status = p.wait()"
   ]
  },
  {
   "cell_type": "code",
   "execution_count": 57,
   "metadata": {},
   "outputs": [
    {
     "name": "stdout",
     "output_type": "stream",
     "text": [
      "b'\\n[{\"path\":\"m\\\\/44\\'\\\\/0\\'\\\\/0\\'\\\\/0\\\\/0\",\"address\":\"1CnQ9XBafn27z9jEpNAg6mW4JjX2A8vDkk\",\"privkey\":\"KzRbRwqLgzcqyLa5wYzVcTv1gFDfGT8x3ggWrttiBBexjMTAWPPG\",\"pubkey\":\"03f077d2139da0101ab8ccd9d0078b923b00b22b95a62801a779529f803694ec15\"},{\"path\":\"m\\\\/44\\'\\\\/0\\'\\\\/0\\'\\\\/0\\\\/1\",\"address\":\"1Li6ciKqkLGTszibgFmGuKXo2yk5vXWKz4\",\"privkey\":\"L3dCf32j4owDB872EEXqWSpDcQoCGiq8Q2v3xgDJeNti8NS57Q6s\",\"pubkey\":\"021ed88f1dc3f2b26db3feadcf2b8dfbe8e39ca3925c57139016edffc03579b332\"},{\"path\":\"m\\\\/44\\'\\\\/0\\'\\\\/0\\'\\\\/0\\\\/2\",\"address\":\"1PUMxFo4NHiCubqLRMp2bJEAP6sSYsEprs\",\"privkey\":\"L24BDAvg7MY4obCFCMZL8mnW1Zk5FYzzAcko6h4RvzPY4evMkR4w\",\"pubkey\":\"02a0d69e4f2828111c1a101f0db9823a3e5d781c42dfa3eca3edef2e4be438c06e\"},{\"path\":\"m\\\\/44\\'\\\\/0\\'\\\\/0\\'\\\\/0\\\\/3\",\"address\":\"1JwHioXYKJFrnF1VwWVbeVKmpTwmyneYWv\",\"privkey\":\"KxQrvSQUve4hofpzk4FB8HhDq4D11FsYZa3h6c5nrAqJ6ULwds3f\",\"pubkey\":\"02f147b3862c5840ca617c5b4d7baa17a5b4e7e5788f456de9a7d15c5a62bdb9f6\"},{\"path\":\"m\\\\/44\\'\\\\/0\\'\\\\/0\\'\\\\/0\\\\/4\",\"address\":\"1BhQTujW14zk4zZyTEZrezjLRHCwPPkmbo\",\"privkey\":\"L21FLxHfmiZyWSyCBGSBekiQwMAtJxwBHZeZ4MEnVqZyFhku7UYy\",\"pubkey\":\"037329031b4fd7c6657b55df6658f7f37daa7c74eed1cb93de22b52c0443a37497\"},{\"path\":\"m\\\\/44\\'\\\\/0\\'\\\\/0\\'\\\\/0\\\\/5\",\"address\":\"18AcFDK5zvjGMGsgzvRfGaCjLH3z1jXDrt\",\"privkey\":\"L4zR1pfB39TZ85JyG1hQs5Zr1PtoifokSLYzmc6UD9Yyxq22HyLL\",\"pubkey\":\"03d1acbb8877b45619484d1400a3e535a364c6e0322ecab752e26b75dc23a1df73\"},{\"path\":\"m\\\\/44\\'\\\\/0\\'\\\\/0\\'\\\\/0\\\\/6\",\"address\":\"12C4Z71gvDDTPsxi3262CFRGUuAQGm3XAz\",\"privkey\":\"KycRV6fxo7icF89JD15YKZ2YF88CXSwa8T6EiJuuFRZg1mB4HPtP\",\"pubkey\":\"03ed40c54a062db5a4c3f103fdc143bb5e95478ad5855f7d33184223476639329d\"},{\"path\":\"m\\\\/44\\'\\\\/0\\'\\\\/0\\'\\\\/0\\\\/7\",\"address\":\"17LAKXNTuW1ThX6zBPQJiTzvhCCiztEtAf\",\"privkey\":\"L3eWEGmYNNaEhPbJUEnadVic744oMMiwKRkGE8Gvay8ihXvFCXpD\",\"pubkey\":\"024cc2a59efce45eb8ea8fd39afb5029866fbff18ec8642f3645d7d15d302e0b69\"},{\"path\":\"m\\\\/44\\'\\\\/0\\'\\\\/0\\'\\\\/0\\\\/8\",\"address\":\"1HQVNHVdSqmkatevMHv3wnCC4fugobDurG\",\"privkey\":\"L3tuBPY5REvZ4qyA7NUxAbbKS2Uu7tx8ZoQTcKkyiKySXsEnqDjx\",\"pubkey\":\"0291ff604b93255d02da41d3395879608fd283fc4bb4694097c5f4f225880f1e8a\"},{\"path\":\"m\\\\/44\\'\\\\/0\\'\\\\/0\\'\\\\/0\\\\/9\",\"address\":\"1LiZ3FhAR1mR5xN2McBgFZfEwbWtBXrQa4\",\"privkey\":\"L58J5VGoCWWm8cEjgiefBXvbkEShaJ7Ko6zB5eb8T56kfRzwsit6\",\"pubkey\":\"035bb3b28200efae84f920057fccc710e46185508483130994600472f26051c0fe\"}]'\n"
     ]
    }
   ],
   "source": [
    "print(output)"
   ]
  },
  {
   "cell_type": "code",
   "execution_count": 58,
   "metadata": {},
   "outputs": [
    {
     "name": "stdout",
     "output_type": "stream",
     "text": [
      "[{'path': \"m/44'/0'/0'/0/0\", 'address': '1CnQ9XBafn27z9jEpNAg6mW4JjX2A8vDkk', 'privkey': 'KzRbRwqLgzcqyLa5wYzVcTv1gFDfGT8x3ggWrttiBBexjMTAWPPG', 'pubkey': '03f077d2139da0101ab8ccd9d0078b923b00b22b95a62801a779529f803694ec15'}, {'path': \"m/44'/0'/0'/0/1\", 'address': '1Li6ciKqkLGTszibgFmGuKXo2yk5vXWKz4', 'privkey': 'L3dCf32j4owDB872EEXqWSpDcQoCGiq8Q2v3xgDJeNti8NS57Q6s', 'pubkey': '021ed88f1dc3f2b26db3feadcf2b8dfbe8e39ca3925c57139016edffc03579b332'}, {'path': \"m/44'/0'/0'/0/2\", 'address': '1PUMxFo4NHiCubqLRMp2bJEAP6sSYsEprs', 'privkey': 'L24BDAvg7MY4obCFCMZL8mnW1Zk5FYzzAcko6h4RvzPY4evMkR4w', 'pubkey': '02a0d69e4f2828111c1a101f0db9823a3e5d781c42dfa3eca3edef2e4be438c06e'}, {'path': \"m/44'/0'/0'/0/3\", 'address': '1JwHioXYKJFrnF1VwWVbeVKmpTwmyneYWv', 'privkey': 'KxQrvSQUve4hofpzk4FB8HhDq4D11FsYZa3h6c5nrAqJ6ULwds3f', 'pubkey': '02f147b3862c5840ca617c5b4d7baa17a5b4e7e5788f456de9a7d15c5a62bdb9f6'}, {'path': \"m/44'/0'/0'/0/4\", 'address': '1BhQTujW14zk4zZyTEZrezjLRHCwPPkmbo', 'privkey': 'L21FLxHfmiZyWSyCBGSBekiQwMAtJxwBHZeZ4MEnVqZyFhku7UYy', 'pubkey': '037329031b4fd7c6657b55df6658f7f37daa7c74eed1cb93de22b52c0443a37497'}, {'path': \"m/44'/0'/0'/0/5\", 'address': '18AcFDK5zvjGMGsgzvRfGaCjLH3z1jXDrt', 'privkey': 'L4zR1pfB39TZ85JyG1hQs5Zr1PtoifokSLYzmc6UD9Yyxq22HyLL', 'pubkey': '03d1acbb8877b45619484d1400a3e535a364c6e0322ecab752e26b75dc23a1df73'}, {'path': \"m/44'/0'/0'/0/6\", 'address': '12C4Z71gvDDTPsxi3262CFRGUuAQGm3XAz', 'privkey': 'KycRV6fxo7icF89JD15YKZ2YF88CXSwa8T6EiJuuFRZg1mB4HPtP', 'pubkey': '03ed40c54a062db5a4c3f103fdc143bb5e95478ad5855f7d33184223476639329d'}, {'path': \"m/44'/0'/0'/0/7\", 'address': '17LAKXNTuW1ThX6zBPQJiTzvhCCiztEtAf', 'privkey': 'L3eWEGmYNNaEhPbJUEnadVic744oMMiwKRkGE8Gvay8ihXvFCXpD', 'pubkey': '024cc2a59efce45eb8ea8fd39afb5029866fbff18ec8642f3645d7d15d302e0b69'}, {'path': \"m/44'/0'/0'/0/8\", 'address': '1HQVNHVdSqmkatevMHv3wnCC4fugobDurG', 'privkey': 'L3tuBPY5REvZ4qyA7NUxAbbKS2Uu7tx8ZoQTcKkyiKySXsEnqDjx', 'pubkey': '0291ff604b93255d02da41d3395879608fd283fc4bb4694097c5f4f225880f1e8a'}, {'path': \"m/44'/0'/0'/0/9\", 'address': '1LiZ3FhAR1mR5xN2McBgFZfEwbWtBXrQa4', 'privkey': 'L58J5VGoCWWm8cEjgiefBXvbkEShaJ7Ko6zB5eb8T56kfRzwsit6', 'pubkey': '035bb3b28200efae84f920057fccc710e46185508483130994600472f26051c0fe'}]\n"
     ]
    }
   ],
   "source": [
    "accounts = json.loads(output)\n",
    "print(accounts)"
   ]
  },
  {
   "cell_type": "code",
   "execution_count": 60,
   "metadata": {},
   "outputs": [
    {
     "data": {
      "text/plain": [
       "{'path': \"m/44'/0'/0'/0/4\",\n",
       " 'address': '1BhQTujW14zk4zZyTEZrezjLRHCwPPkmbo',\n",
       " 'privkey': 'L21FLxHfmiZyWSyCBGSBekiQwMAtJxwBHZeZ4MEnVqZyFhku7UYy',\n",
       " 'pubkey': '037329031b4fd7c6657b55df6658f7f37daa7c74eed1cb93de22b52c0443a37497'}"
      ]
     },
     "execution_count": 60,
     "metadata": {},
     "output_type": "execute_result"
    }
   ],
   "source": [
    "accounts[4]"
   ]
  },
  {
   "cell_type": "code",
   "execution_count": 31,
   "metadata": {},
   "outputs": [],
   "source": [
    "# --format=json"
   ]
  },
  {
   "cell_type": "code",
   "execution_count": 61,
   "metadata": {},
   "outputs": [
    {
     "ename": "NameError",
     "evalue": "name 'keys' is not defined",
     "output_type": "error",
     "traceback": [
      "\u001b[0;31m---------------------------------------------------------------------------\u001b[0m",
      "\u001b[0;31mNameError\u001b[0m                                 Traceback (most recent call last)",
      "\u001b[0;32m<ipython-input-61-f843c38c74e1>\u001b[0m in \u001b[0;36m<module>\u001b[0;34m\u001b[0m\n\u001b[0;32m----> 1\u001b[0;31m \u001b[0mprint\u001b[0m\u001b[0;34m(\u001b[0m\u001b[0mkeys\u001b[0m\u001b[0;34m)\u001b[0m\u001b[0;34m\u001b[0m\u001b[0;34m\u001b[0m\u001b[0m\n\u001b[0m",
      "\u001b[0;31mNameError\u001b[0m: name 'keys' is not defined"
     ]
    }
   ],
   "source": []
  },
  {
   "cell_type": "code",
   "execution_count": null,
   "metadata": {},
   "outputs": [],
   "source": []
  },
  {
   "cell_type": "code",
   "execution_count": null,
   "metadata": {},
   "outputs": [],
   "source": []
  }
 ],
 "metadata": {
  "kernelspec": {
   "display_name": "Python 3",
   "language": "python",
   "name": "python3"
  },
  "language_info": {
   "codemirror_mode": {
    "name": "ipython",
    "version": 3
   },
   "file_extension": ".py",
   "mimetype": "text/x-python",
   "name": "python",
   "nbconvert_exporter": "python",
   "pygments_lexer": "ipython3",
   "version": "3.7.4"
  }
 },
 "nbformat": 4,
 "nbformat_minor": 4
}
