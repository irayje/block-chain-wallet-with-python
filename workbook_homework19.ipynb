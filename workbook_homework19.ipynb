{
 "cells": [
  {
   "cell_type": "code",
   "execution_count": 4,
   "metadata": {},
   "outputs": [],
   "source": [
    "import subprocess"
   ]
  },
  {
   "cell_type": "code",
   "execution_count": 5,
   "metadata": {},
   "outputs": [],
   "source": [
    "import json"
   ]
  },
  {
   "cell_type": "code",
   "execution_count": 6,
   "metadata": {},
   "outputs": [],
   "source": [
    "import os\n",
    "from web3 import Web3 as w3\n",
    "from dotenv import load_dotenv\n",
    "from web3.middleware import geth_poa_middleware\n",
    "from eth_account import Account\n",
    "\n",
    "from pathlib import Path\n",
    "from getpass import getpass"
   ]
  },
  {
   "cell_type": "raw",
   "metadata": {},
   "source": [
    "from bit import wif_to_key\n",
    "\n",
    "key = wif_to_key(\"slide surprise fit peace ugly episode ignore ozone oil foster noise mushroom gorilla vivid foot\")"
   ]
  },
  {
   "cell_type": "code",
   "execution_count": 7,
   "metadata": {},
   "outputs": [],
   "source": [
    "#mnemonic = os.getenv('MNEMONIC', 'slide surprise fit peace ugly episode ignore ozone oil foster noise mushroom gorilla vivid foot')"
   ]
  },
  {
   "cell_type": "code",
   "execution_count": 8,
   "metadata": {},
   "outputs": [],
   "source": [
    "mnemonic = 'slide surprise fit peace ugly episode ignore ozone oil foster noise mushroom gorilla vivid foot'"
   ]
  },
  {
   "cell_type": "code",
   "execution_count": 9,
   "metadata": {},
   "outputs": [],
   "source": [
    "x = './wallet/derive -g --mnemonic=\"slide surprise fit peace ugly episode ignore ozone oil foster noise mushroom gorilla vivid foot\" --format=json --coin=btc --numderive=4  --cols=path,address,privkey,pubkey'"
   ]
  },
  {
   "cell_type": "code",
   "execution_count": 10,
   "metadata": {},
   "outputs": [],
   "source": [
    "p = subprocess.Popen(x, stdout=subprocess.PIPE, shell=True)"
   ]
  },
  {
   "cell_type": "code",
   "execution_count": 11,
   "metadata": {},
   "outputs": [],
   "source": [
    "(output, err) = p.communicate()"
   ]
  },
  {
   "cell_type": "code",
   "execution_count": 12,
   "metadata": {},
   "outputs": [],
   "source": [
    "p_status = p.wait()"
   ]
  },
  {
   "cell_type": "code",
   "execution_count": 13,
   "metadata": {},
   "outputs": [
    {
     "name": "stdout",
     "output_type": "stream",
     "text": [
      "b'\\n[{\"path\":\"m\\\\/44\\'\\\\/0\\'\\\\/0\\'\\\\/0\\\\/0\",\"address\":\"1CnQ9XBafn27z9jEpNAg6mW4JjX2A8vDkk\",\"privkey\":\"KzRbRwqLgzcqyLa5wYzVcTv1gFDfGT8x3ggWrttiBBexjMTAWPPG\",\"pubkey\":\"03f077d2139da0101ab8ccd9d0078b923b00b22b95a62801a779529f803694ec15\"},{\"path\":\"m\\\\/44\\'\\\\/0\\'\\\\/0\\'\\\\/0\\\\/1\",\"address\":\"1Li6ciKqkLGTszibgFmGuKXo2yk5vXWKz4\",\"privkey\":\"L3dCf32j4owDB872EEXqWSpDcQoCGiq8Q2v3xgDJeNti8NS57Q6s\",\"pubkey\":\"021ed88f1dc3f2b26db3feadcf2b8dfbe8e39ca3925c57139016edffc03579b332\"},{\"path\":\"m\\\\/44\\'\\\\/0\\'\\\\/0\\'\\\\/0\\\\/2\",\"address\":\"1PUMxFo4NHiCubqLRMp2bJEAP6sSYsEprs\",\"privkey\":\"L24BDAvg7MY4obCFCMZL8mnW1Zk5FYzzAcko6h4RvzPY4evMkR4w\",\"pubkey\":\"02a0d69e4f2828111c1a101f0db9823a3e5d781c42dfa3eca3edef2e4be438c06e\"},{\"path\":\"m\\\\/44\\'\\\\/0\\'\\\\/0\\'\\\\/0\\\\/3\",\"address\":\"1JwHioXYKJFrnF1VwWVbeVKmpTwmyneYWv\",\"privkey\":\"KxQrvSQUve4hofpzk4FB8HhDq4D11FsYZa3h6c5nrAqJ6ULwds3f\",\"pubkey\":\"02f147b3862c5840ca617c5b4d7baa17a5b4e7e5788f456de9a7d15c5a62bdb9f6\"}]'\n"
     ]
    }
   ],
   "source": [
    "print(output)"
   ]
  },
  {
   "cell_type": "code",
   "execution_count": 14,
   "metadata": {},
   "outputs": [
    {
     "data": {
      "text/plain": [
       "b'\\n[{\"path\":\"m\\\\/44\\'\\\\/0\\'\\\\/0\\'\\\\/0\\\\/0\",\"address\":\"1CnQ9XBafn27z9jEpNAg6mW4JjX2A8vDkk\",\"privkey\":\"KzRbRwqLgzcqyLa5wYzVcTv1gFDfGT8x3ggWrttiBBexjMTAWPPG\",\"pubkey\":\"03f077d2139da0101ab8ccd9d0078b923b00b22b95a62801a779529f803694ec15\"},{\"path\":\"m\\\\/44\\'\\\\/0\\'\\\\/0\\'\\\\/0\\\\/1\",\"address\":\"1Li6ciKqkLGTszibgFmGuKXo2yk5vXWKz4\",\"privkey\":\"L3dCf32j4owDB872EEXqWSpDcQoCGiq8Q2v3xgDJeNti8NS57Q6s\",\"pubkey\":\"021ed88f1dc3f2b26db3feadcf2b8dfbe8e39ca3925c57139016edffc03579b332\"},{\"path\":\"m\\\\/44\\'\\\\/0\\'\\\\/0\\'\\\\/0\\\\/2\",\"address\":\"1PUMxFo4NHiCubqLRMp2bJEAP6sSYsEprs\",\"privkey\":\"L24BDAvg7MY4obCFCMZL8mnW1Zk5FYzzAcko6h4RvzPY4evMkR4w\",\"pubkey\":\"02a0d69e4f2828111c1a101f0db9823a3e5d781c42dfa3eca3edef2e4be438c06e\"},{\"path\":\"m\\\\/44\\'\\\\/0\\'\\\\/0\\'\\\\/0\\\\/3\",\"address\":\"1JwHioXYKJFrnF1VwWVbeVKmpTwmyneYWv\",\"privkey\":\"KxQrvSQUve4hofpzk4FB8HhDq4D11FsYZa3h6c5nrAqJ6ULwds3f\",\"pubkey\":\"02f147b3862c5840ca617c5b4d7baa17a5b4e7e5788f456de9a7d15c5a62bdb9f6\"}]'"
      ]
     },
     "execution_count": 14,
     "metadata": {},
     "output_type": "execute_result"
    }
   ],
   "source": [
    "output"
   ]
  },
  {
   "cell_type": "code",
   "execution_count": 15,
   "metadata": {},
   "outputs": [
    {
     "name": "stdout",
     "output_type": "stream",
     "text": [
      "[{'path': \"m/44'/0'/0'/0/0\", 'address': '1CnQ9XBafn27z9jEpNAg6mW4JjX2A8vDkk', 'privkey': 'KzRbRwqLgzcqyLa5wYzVcTv1gFDfGT8x3ggWrttiBBexjMTAWPPG', 'pubkey': '03f077d2139da0101ab8ccd9d0078b923b00b22b95a62801a779529f803694ec15'}, {'path': \"m/44'/0'/0'/0/1\", 'address': '1Li6ciKqkLGTszibgFmGuKXo2yk5vXWKz4', 'privkey': 'L3dCf32j4owDB872EEXqWSpDcQoCGiq8Q2v3xgDJeNti8NS57Q6s', 'pubkey': '021ed88f1dc3f2b26db3feadcf2b8dfbe8e39ca3925c57139016edffc03579b332'}, {'path': \"m/44'/0'/0'/0/2\", 'address': '1PUMxFo4NHiCubqLRMp2bJEAP6sSYsEprs', 'privkey': 'L24BDAvg7MY4obCFCMZL8mnW1Zk5FYzzAcko6h4RvzPY4evMkR4w', 'pubkey': '02a0d69e4f2828111c1a101f0db9823a3e5d781c42dfa3eca3edef2e4be438c06e'}, {'path': \"m/44'/0'/0'/0/3\", 'address': '1JwHioXYKJFrnF1VwWVbeVKmpTwmyneYWv', 'privkey': 'KxQrvSQUve4hofpzk4FB8HhDq4D11FsYZa3h6c5nrAqJ6ULwds3f', 'pubkey': '02f147b3862c5840ca617c5b4d7baa17a5b4e7e5788f456de9a7d15c5a62bdb9f6'}]\n"
     ]
    }
   ],
   "source": [
    "accounts = json.loads(output)\n",
    "print(accounts)"
   ]
  },
  {
   "cell_type": "code",
   "execution_count": 16,
   "metadata": {},
   "outputs": [
    {
     "data": {
      "text/plain": [
       "{'path': \"m/44'/0'/0'/0/3\",\n",
       " 'address': '1JwHioXYKJFrnF1VwWVbeVKmpTwmyneYWv',\n",
       " 'privkey': 'KxQrvSQUve4hofpzk4FB8HhDq4D11FsYZa3h6c5nrAqJ6ULwds3f',\n",
       " 'pubkey': '02f147b3862c5840ca617c5b4d7baa17a5b4e7e5788f456de9a7d15c5a62bdb9f6'}"
      ]
     },
     "execution_count": 16,
     "metadata": {},
     "output_type": "execute_result"
    }
   ],
   "source": [
    "accounts[3]"
   ]
  },
  {
   "cell_type": "code",
   "execution_count": 17,
   "metadata": {},
   "outputs": [],
   "source": [
    "# --format=json"
   ]
  },
  {
   "cell_type": "code",
   "execution_count": 18,
   "metadata": {},
   "outputs": [],
   "source": [
    "def derive_wallets(mnenomicvariable, coinname, num):\n",
    "    x = './wallet/derive -g --mnemonic=\"' + mnenomicvariable + '\" --format=json --coin=' + coinname + ' --numderive='+ str(num) + ' --cols=path,index,address,privkey,pubkey'\n",
    "    p = subprocess.Popen(x, stdout=subprocess.PIPE, shell=True)\n",
    "    (output, err) = p.communicate()\n",
    "    p_status = p.wait()\n",
    "    accounts = json.loads(output)\n",
    "    return accounts"
   ]
  },
  {
   "cell_type": "code",
   "execution_count": 19,
   "metadata": {},
   "outputs": [
    {
     "data": {
      "text/plain": [
       "'KxQrvSQUve4hofpzk4FB8HhDq4D11FsYZa3h6c5nrAqJ6ULwds3f'"
      ]
     },
     "execution_count": 19,
     "metadata": {},
     "output_type": "execute_result"
    }
   ],
   "source": [
    "derive_wallets(mnemonic, 'btc', 4)[3]['privkey']"
   ]
  },
  {
   "cell_type": "code",
   "execution_count": 20,
   "metadata": {},
   "outputs": [],
   "source": [
    "coins = {'btc': derive_wallets(mnemonic, 'btc', 4),\n",
    "    'eth': derive_wallets(mnemonic, 'eth', 4),\n",
    "    'btc-test': derive_wallets(mnemonic, 'btc-test', 4)}"
   ]
  },
  {
   "cell_type": "code",
   "execution_count": 21,
   "metadata": {},
   "outputs": [],
   "source": [
    "#p1 = coins()"
   ]
  },
  {
   "cell_type": "code",
   "execution_count": 22,
   "metadata": {},
   "outputs": [],
   "source": [
    "#p1['btc'][0]['privkey']"
   ]
  },
  {
   "cell_type": "code",
   "execution_count": 23,
   "metadata": {},
   "outputs": [
    {
     "data": {
      "text/plain": [
       "'KzRbRwqLgzcqyLa5wYzVcTv1gFDfGT8x3ggWrttiBBexjMTAWPPG'"
      ]
     },
     "execution_count": 23,
     "metadata": {},
     "output_type": "execute_result"
    }
   ],
   "source": [
    "coins['btc'][0]['privkey']"
   ]
  },
  {
   "cell_type": "code",
   "execution_count": 24,
   "metadata": {},
   "outputs": [],
   "source": [
    "from bit import *"
   ]
  },
  {
   "cell_type": "code",
   "execution_count": 25,
   "metadata": {},
   "outputs": [],
   "source": [
    "account = {}\n",
    "def priv_key_to_account(coin, priv_key):\n",
    "    if coin == 'eth':\n",
    "        return Account.privateKeyToAccount(priv_key)\n",
    "    elif coin == 'btc-test' or 'btc':\n",
    "        return PrivateKeyTestnet(priv_key)\n",
    "#    For ETH, return Account.privateKeyToAccount(priv_key)\n",
    "#    For BTCTEST, return PrivateKeyTestnet(priv_key)"
   ]
  },
  {
   "cell_type": "code",
   "execution_count": 26,
   "metadata": {},
   "outputs": [
    {
     "data": {
      "text/plain": [
       "<eth_account.signers.local.LocalAccount at 0x109f6d110>"
      ]
     },
     "execution_count": 26,
     "metadata": {},
     "output_type": "execute_result"
    }
   ],
   "source": [
    "priv_key_to_account('eth', coins['eth'][0]['privkey'] )"
   ]
  },
  {
   "cell_type": "code",
   "execution_count": 27,
   "metadata": {},
   "outputs": [
    {
     "data": {
      "text/plain": [
       "<PrivateKeyTestnet: mqKhFUyEY6MKyreiZ316DxxghAUqomgFLU>"
      ]
     },
     "execution_count": 27,
     "metadata": {},
     "output_type": "execute_result"
    }
   ],
   "source": [
    "priv_key_to_account('btc-test', coins['btc-test'][0]['privkey'])"
   ]
  },
  {
   "cell_type": "code",
   "execution_count": 36,
   "metadata": {},
   "outputs": [],
   "source": [
    "def create_tx(coin, account, recipient, amount):\n",
    "    if coin == 'eth':\n",
    "        gasEstimate = w3.eth.estimateGas(\n",
    "            {\"from\": account.address, \"to\": recipient, \"value\": amount}\n",
    "        )\n",
    "        return {\n",
    "            \"from\": account.address,\n",
    "            \"to\": recipient,\n",
    "            \"value\": amount,\n",
    "            \"gasPrice\": w3.eth.gasPrice,\n",
    "            \"gas\": gasEstimate,\n",
    "            \"nonce\": w3.eth.getTransactionCount(account.address),\n",
    "        }\n",
    "    elif coin == 'btc-test' or 'btc':\n",
    "        return PrivateKeyTestnet.prepare_transaction(account.address, [(recipient, amount, 'btc')])"
   ]
  },
  {
   "cell_type": "code",
   "execution_count": 37,
   "metadata": {},
   "outputs": [],
   "source": [
    "def send_tx(account, recipient, amount):\n",
    "    if coin == 'eth':\n",
    "        tx = create_raw_tx(account, recipient, amount)\n",
    "        signed_tx = account.sign_transaction(tx)\n",
    "        result = w3.eth.sendRawTransaction(signed_tx.rawTransaction)\n",
    "        print(result.hex())\n",
    "        return result.hex()\n",
    "#    elif coin == 'btc' or 'btc-test':"
   ]
  },
  {
   "cell_type": "code",
   "execution_count": 38,
   "metadata": {},
   "outputs": [
    {
     "ename": "ConnectionError",
     "evalue": "All APIs are unreachable.",
     "output_type": "error",
     "traceback": [
      "\u001b[0;31m---------------------------------------------------------------------------\u001b[0m",
      "\u001b[0;31mConnectionError\u001b[0m                           Traceback (most recent call last)",
      "\u001b[0;32m<ipython-input-38-4f65485c6cb2>\u001b[0m in \u001b[0;36m<module>\u001b[0;34m\u001b[0m\n\u001b[0;32m----> 1\u001b[0;31m \u001b[0mcreate_tx\u001b[0m\u001b[0;34m(\u001b[0m\u001b[0;34m'btc-test'\u001b[0m\u001b[0;34m,\u001b[0m \u001b[0mpriv_key_to_account\u001b[0m\u001b[0;34m(\u001b[0m\u001b[0;34m'btc-test'\u001b[0m\u001b[0;34m,\u001b[0m \u001b[0mcoins\u001b[0m\u001b[0;34m[\u001b[0m\u001b[0;34m'btc-test'\u001b[0m\u001b[0;34m]\u001b[0m\u001b[0;34m[\u001b[0m\u001b[0;36m0\u001b[0m\u001b[0;34m]\u001b[0m\u001b[0;34m[\u001b[0m\u001b[0;34m'privkey'\u001b[0m\u001b[0;34m]\u001b[0m\u001b[0;34m)\u001b[0m\u001b[0;34m,\u001b[0m \u001b[0;34m'someone'\u001b[0m\u001b[0;34m,\u001b[0m \u001b[0;36m0\u001b[0m\u001b[0;34m)\u001b[0m\u001b[0;34m\u001b[0m\u001b[0;34m\u001b[0m\u001b[0m\n\u001b[0m",
      "\u001b[0;32m<ipython-input-36-81e4a3fe43e6>\u001b[0m in \u001b[0;36mcreate_tx\u001b[0;34m(coin, account, recipient, amount)\u001b[0m\n\u001b[1;32m     13\u001b[0m         }\n\u001b[1;32m     14\u001b[0m     \u001b[0;32melif\u001b[0m \u001b[0mcoin\u001b[0m \u001b[0;34m==\u001b[0m \u001b[0;34m'btc-test'\u001b[0m \u001b[0;32mor\u001b[0m \u001b[0;34m'btc'\u001b[0m\u001b[0;34m:\u001b[0m\u001b[0;34m\u001b[0m\u001b[0;34m\u001b[0m\u001b[0m\n\u001b[0;32m---> 15\u001b[0;31m         \u001b[0;32mreturn\u001b[0m \u001b[0mPrivateKeyTestnet\u001b[0m\u001b[0;34m.\u001b[0m\u001b[0mprepare_transaction\u001b[0m\u001b[0;34m(\u001b[0m\u001b[0maccount\u001b[0m\u001b[0;34m.\u001b[0m\u001b[0maddress\u001b[0m\u001b[0;34m,\u001b[0m \u001b[0;34m[\u001b[0m\u001b[0;34m(\u001b[0m\u001b[0mrecipient\u001b[0m\u001b[0;34m,\u001b[0m \u001b[0mamount\u001b[0m\u001b[0;34m,\u001b[0m \u001b[0;34m'btc'\u001b[0m\u001b[0;34m)\u001b[0m\u001b[0;34m]\u001b[0m\u001b[0;34m)\u001b[0m\u001b[0;34m\u001b[0m\u001b[0;34m\u001b[0m\u001b[0m\n\u001b[0m",
      "\u001b[0;32m/opt/anaconda3/lib/python3.7/site-packages/bit/wallet.py\u001b[0m in \u001b[0;36mprepare_transaction\u001b[0;34m(cls, address, outputs, compressed, fee, absolute_fee, leftover, combine, message, unspents)\u001b[0m\n\u001b[1;32m    768\u001b[0m         \"\"\"\n\u001b[1;32m    769\u001b[0m         unspents, outputs = sanitize_tx_data(\n\u001b[0;32m--> 770\u001b[0;31m             \u001b[0munspents\u001b[0m \u001b[0;32mor\u001b[0m \u001b[0mNetworkAPI\u001b[0m\u001b[0;34m.\u001b[0m\u001b[0mget_unspent_testnet\u001b[0m\u001b[0;34m(\u001b[0m\u001b[0maddress\u001b[0m\u001b[0;34m)\u001b[0m\u001b[0;34m,\u001b[0m\u001b[0;34m\u001b[0m\u001b[0;34m\u001b[0m\u001b[0m\n\u001b[0m\u001b[1;32m    771\u001b[0m             \u001b[0moutputs\u001b[0m\u001b[0;34m,\u001b[0m\u001b[0;34m\u001b[0m\u001b[0;34m\u001b[0m\u001b[0m\n\u001b[1;32m    772\u001b[0m             \u001b[0mfee\u001b[0m \u001b[0;32mor\u001b[0m \u001b[0mget_fee_cached\u001b[0m\u001b[0;34m(\u001b[0m\u001b[0;34m)\u001b[0m\u001b[0;34m,\u001b[0m\u001b[0;34m\u001b[0m\u001b[0;34m\u001b[0m\u001b[0m\n",
      "\u001b[0;32m/opt/anaconda3/lib/python3.7/site-packages/bit/network/services.py\u001b[0m in \u001b[0;36mget_unspent_testnet\u001b[0;34m(cls, address)\u001b[0m\n\u001b[1;32m    631\u001b[0m                 \u001b[0;32mpass\u001b[0m\u001b[0;34m\u001b[0m\u001b[0;34m\u001b[0m\u001b[0m\n\u001b[1;32m    632\u001b[0m \u001b[0;34m\u001b[0m\u001b[0m\n\u001b[0;32m--> 633\u001b[0;31m         \u001b[0;32mraise\u001b[0m \u001b[0mConnectionError\u001b[0m\u001b[0;34m(\u001b[0m\u001b[0;34m'All APIs are unreachable.'\u001b[0m\u001b[0;34m)\u001b[0m\u001b[0;34m\u001b[0m\u001b[0;34m\u001b[0m\u001b[0m\n\u001b[0m\u001b[1;32m    634\u001b[0m \u001b[0;34m\u001b[0m\u001b[0m\n\u001b[1;32m    635\u001b[0m     \u001b[0;34m@\u001b[0m\u001b[0mclassmethod\u001b[0m\u001b[0;34m\u001b[0m\u001b[0;34m\u001b[0m\u001b[0m\n",
      "\u001b[0;31mConnectionError\u001b[0m: All APIs are unreachable."
     ]
    }
   ],
   "source": [
    "create_tx('btc-test', priv_key_to_account('btc-test', coins['btc-test'][0]['privkey']), 'someone', 0)"
   ]
  },
  {
   "cell_type": "markdown",
   "metadata": {},
   "source": [
    "Now, we need to use `bit` and `web3.py` to leverage the keys we've got in the `coins` object.\n",
    "You will need to create three more functions:\n",
    "\n",
    "- `create_tx` -- this will create the raw, unsigned transaction that contains all metadata needed to transact.\n",
    "  This function needs the following parameters:\n",
    "\n",
    "  - `coin` -- the coin type (defined in `constants.py`).\n",
    "  - `account` -- the account object from `priv_key_to_account`.\n",
    "  - `to` -- the recipient address.\n",
    "  - `amount` -- the amount of the coin to send.\n",
    "\n",
    "  You will need to check the coin, then return one of the following functions based on the library:\n",
    "\n",
    "  - For `ETH`, return an object containing `to`, `from`, `value`, `gas`, `gasPrice`, `nonce`, and `chainID`.\n",
    "    Make sure to calculate all of these values properly using `web3.py`!\n",
    "  - For `BTCTEST`, return `PrivateKeyTestnet.prepare_transaction(account.address, [(to, amount, BTC)])`\n",
    "\n",
    "- `send_tx` -- this will call `create_tx`, sign the transaction, then send it to the designated network.\n",
    "  This function needs the following parameters:\n",
    "\n",
    "  - `coin` -- the coin type (defined in `constants.py`).\n",
    "  - `account` -- the account object from `priv_key_to_account`.\n",
    "  - `to` -- the recipient address.\n",
    "  - `amount` -- the amount of the coin to send.\n",
    "\n",
    "  You may notice these are the exact same parameters as `create_tx`. `send_tx` will call `create_tx`, so it needs\n",
    "  all of this information available.\n",
    "\n",
    "  You will need to check the coin, then create a `raw_tx` object by calling `create_tx`. Then, you will need to sign\n",
    "  the `raw_tx` using `bit` or `web3.py` (hint: the account objects have a sign transaction function within).\n",
    "\n",
    "  Once you've signed the transaction, you will need to send it to the designated blockchain network.\n",
    "\n",
    "  - For `ETH`, return `w3.eth.sendRawTransaction(signed.rawTransaction)`\n",
    "  - For `BTCTEST`, return `NetworkAPI.broadcast_tx_testnet(signed)`"
   ]
  },
  {
   "cell_type": "code",
   "execution_count": null,
   "metadata": {},
   "outputs": [],
   "source": []
  },
  {
   "cell_type": "code",
   "execution_count": null,
   "metadata": {},
   "outputs": [],
   "source": []
  },
  {
   "cell_type": "code",
   "execution_count": null,
   "metadata": {},
   "outputs": [],
   "source": []
  }
 ],
 "metadata": {
  "kernelspec": {
   "display_name": "Python 3",
   "language": "python",
   "name": "python3"
  },
  "language_info": {
   "codemirror_mode": {
    "name": "ipython",
    "version": 3
   },
   "file_extension": ".py",
   "mimetype": "text/x-python",
   "name": "python",
   "nbconvert_exporter": "python",
   "pygments_lexer": "ipython3",
   "version": "3.7.4"
  }
 },
 "nbformat": 4,
 "nbformat_minor": 4
}
