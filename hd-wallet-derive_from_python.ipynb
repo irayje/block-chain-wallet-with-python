{
 "cells": [
  {
   "cell_type": "code",
   "execution_count": 23,
   "metadata": {},
   "outputs": [],
   "source": [
    "import subprocess\n",
    "import json"
   ]
  },
  {
   "cell_type": "code",
   "execution_count": 18,
   "metadata": {},
   "outputs": [],
   "source": [
    "#command = r'php full_path_to\\derive -g  --mnemonic=\"YOUR_MNEMONIC_HERE\" --cols=path,address,privkey,pubkey'\n",
    "\n",
    "command = r'php path\\to\\derive -g  --mnemonic=\"YOUR_MNEMONIC_HERE\" --cols=path,address,privkey,pubkey --format=json'\n",
    "\n",
    "#command = '/derive -g --mnemonic=\"INSERT HERE\" --cols=path,address,privkey,pubkey'"
   ]
  },
  {
   "cell_type": "code",
   "execution_count": 19,
   "metadata": {},
   "outputs": [],
   "source": [
    "p = subprocess.Popen(command,stdout=subprocess.PIPE,shell=True)\n"
   ]
  },
  {
   "cell_type": "code",
   "execution_count": 20,
   "metadata": {},
   "outputs": [],
   "source": [
    "(output, err) = p.communicate()"
   ]
  },
  {
   "cell_type": "code",
   "execution_count": 21,
   "metadata": {},
   "outputs": [],
   "source": [
    "p_status = p.wait()"
   ]
  },
  {
   "cell_type": "code",
   "execution_count": 22,
   "metadata": {},
   "outputs": [
    {
     "name": "stdout",
     "output_type": "stream",
     "text": [
      "b'\\n[{\"path\":\"m\\\\/44\\'\\\\/0\\'\\\\/0\\'\\\\/0\\\\/0\",\"address\":\"1JCKe2TFnfiiPfvjoRyQdMQesmfbT4DAW5\",\"privkey\":\"L1sqesymPh8g7xh5tKenxLhamKX8BQxzbvHTUL4AwcjoxDGmFB3p\",\"pubkey\":\"02694501a9f1e5a4e3b00038bd08df9ea744136c738d2d76e48e2da9d6678a5ad9\"},{\"path\":\"m\\\\/44\\'\\\\/0\\'\\\\/0\\'\\\\/0\\\\/1\",\"address\":\"1FWKzzLfrQCqvaMtBXu9GeaSFdeckWCYCu\",\"privkey\":\"KxkyzXTSMZoGxjkaikHzLyiajhehUyHYL6JiaZDuDzENtAyVG2oU\",\"pubkey\":\"02fdcf78daeacdbae6e2d34904d516d1a68ba035073cbdb6edaa82abde5ec7c0e8\"},{\"path\":\"m\\\\/44\\'\\\\/0\\'\\\\/0\\'\\\\/0\\\\/2\",\"address\":\"1PL5T8qJY5Jhx1fkwm6pXzAs4Xkz17gAbt\",\"privkey\":\"KzCkvGUH1Xk1mbJWEmNuKZgqYcNVDzFoMP261e6vsrkfeu6wufa9\",\"pubkey\":\"03634d53cde61e7b8dee82e47b19f974519ba950bb586b0509f88589bae82fe67e\"},{\"path\":\"m\\\\/44\\'\\\\/0\\'\\\\/0\\'\\\\/0\\\\/3\",\"address\":\"1Ka2sbVPmev23HPNHbjScsXjV6PeKW85L2\",\"privkey\":\"L2KBu1m6gvNTisYUn2kN4879GiB2qmQL3jYderBuTMG1gakqRCxM\",\"pubkey\":\"03e747337f223ced7c46d60b206f560c8156872cc3da607a46d4af0eeb0b9b6e6f\"},{\"path\":\"m\\\\/44\\'\\\\/0\\'\\\\/0\\'\\\\/0\\\\/4\",\"address\":\"16o5gVEgguZ4iPdkf6wgqujFRAsPmFbZm2\",\"privkey\":\"L29eLRFcgyY1x168sGJ3NqpQQm2ZYA9QPgWiVKmKJ3mpbh47oVZj\",\"pubkey\":\"02064a58e72250f0b7e84c111c1fab6d9e23053017befbca3e259a1ee6b666e9b9\"},{\"path\":\"m\\\\/44\\'\\\\/0\\'\\\\/0\\'\\\\/0\\\\/5\",\"address\":\"13zaCsRbBvbR5bWdUaCEu6GihihyMgXEPV\",\"privkey\":\"KxSkfR5hiU8dJeawJapjeK9BmsdfFyJkZZPUJU9VsQesjahLM4CM\",\"pubkey\":\"02b7d4ffa4922752ae2c7fe7e1b3b97c1470c19362153fba8536952d7193e9e800\"},{\"path\":\"m\\\\/44\\'\\\\/0\\'\\\\/0\\'\\\\/0\\\\/6\",\"address\":\"1F2m3UUnoBtw4VPGi5gxrAGuwmDuMPL72n\",\"privkey\":\"L5eHETh57rezA9A1GpFPbvbuD1SLYXdc3WvoEm7rtMn64JcAnc4N\",\"pubkey\":\"0334b463efa66befa3995e4c302b103d4086debf3db1d1defcfa024edecee3307d\"},{\"path\":\"m\\\\/44\\'\\\\/0\\'\\\\/0\\'\\\\/0\\\\/7\",\"address\":\"13464qErFqVaFHnvdqHPo6jnsTLrdh4S6n\",\"privkey\":\"KwacHqwtZ86GfdLiWYogvK6fCCodS7XJhZhShst79wCKxaRAkb3f\",\"pubkey\":\"03372bff61963d9ef1165f7c6f0b65d5e1b6eca39411df80ab4995e0c1103e8024\"},{\"path\":\"m\\\\/44\\'\\\\/0\\'\\\\/0\\'\\\\/0\\\\/8\",\"address\":\"1NAazj6JPtvJiN7sjcrdKaABd2umRCeo28\",\"privkey\":\"KzT1uR61rr47XfaZwWMNkWtbFyZ6D1XV5ZVzoip3qmokcPuz4EyL\",\"pubkey\":\"0325ed3699c4194975ae51a72fac7284994bcfaf0c9fd1105466305cf3517c6a5d\"},{\"path\":\"m\\\\/44\\'\\\\/0\\'\\\\/0\\'\\\\/0\\\\/9\",\"address\":\"15NJSehv32SRmEbattG9WnbwYZDxJ38qCh\",\"privkey\":\"Kx62KAgWP3WYu1GsZfNRV8znfQNmVjCSmdQWih6u2Ck3WWzDMYY1\",\"pubkey\":\"03dbc0664fa66c0746791382643bf6ac8e5836ce4376c7026214681e6397602de7\"}]'\n"
     ]
    }
   ],
   "source": [
    "print(output)"
   ]
  },
  {
   "cell_type": "code",
   "execution_count": 26,
   "metadata": {},
   "outputs": [
    {
     "name": "stdout",
     "output_type": "stream",
     "text": [
      "[{'path': \"m/44'/0'/0'/0/0\", 'address': '1JCKe2TFnfiiPfvjoRyQdMQesmfbT4DAW5', 'privkey': 'L1sqesymPh8g7xh5tKenxLhamKX8BQxzbvHTUL4AwcjoxDGmFB3p', 'pubkey': '02694501a9f1e5a4e3b00038bd08df9ea744136c738d2d76e48e2da9d6678a5ad9'}, {'path': \"m/44'/0'/0'/0/1\", 'address': '1FWKzzLfrQCqvaMtBXu9GeaSFdeckWCYCu', 'privkey': 'KxkyzXTSMZoGxjkaikHzLyiajhehUyHYL6JiaZDuDzENtAyVG2oU', 'pubkey': '02fdcf78daeacdbae6e2d34904d516d1a68ba035073cbdb6edaa82abde5ec7c0e8'}, {'path': \"m/44'/0'/0'/0/2\", 'address': '1PL5T8qJY5Jhx1fkwm6pXzAs4Xkz17gAbt', 'privkey': 'KzCkvGUH1Xk1mbJWEmNuKZgqYcNVDzFoMP261e6vsrkfeu6wufa9', 'pubkey': '03634d53cde61e7b8dee82e47b19f974519ba950bb586b0509f88589bae82fe67e'}, {'path': \"m/44'/0'/0'/0/3\", 'address': '1Ka2sbVPmev23HPNHbjScsXjV6PeKW85L2', 'privkey': 'L2KBu1m6gvNTisYUn2kN4879GiB2qmQL3jYderBuTMG1gakqRCxM', 'pubkey': '03e747337f223ced7c46d60b206f560c8156872cc3da607a46d4af0eeb0b9b6e6f'}, {'path': \"m/44'/0'/0'/0/4\", 'address': '16o5gVEgguZ4iPdkf6wgqujFRAsPmFbZm2', 'privkey': 'L29eLRFcgyY1x168sGJ3NqpQQm2ZYA9QPgWiVKmKJ3mpbh47oVZj', 'pubkey': '02064a58e72250f0b7e84c111c1fab6d9e23053017befbca3e259a1ee6b666e9b9'}, {'path': \"m/44'/0'/0'/0/5\", 'address': '13zaCsRbBvbR5bWdUaCEu6GihihyMgXEPV', 'privkey': 'KxSkfR5hiU8dJeawJapjeK9BmsdfFyJkZZPUJU9VsQesjahLM4CM', 'pubkey': '02b7d4ffa4922752ae2c7fe7e1b3b97c1470c19362153fba8536952d7193e9e800'}, {'path': \"m/44'/0'/0'/0/6\", 'address': '1F2m3UUnoBtw4VPGi5gxrAGuwmDuMPL72n', 'privkey': 'L5eHETh57rezA9A1GpFPbvbuD1SLYXdc3WvoEm7rtMn64JcAnc4N', 'pubkey': '0334b463efa66befa3995e4c302b103d4086debf3db1d1defcfa024edecee3307d'}, {'path': \"m/44'/0'/0'/0/7\", 'address': '13464qErFqVaFHnvdqHPo6jnsTLrdh4S6n', 'privkey': 'KwacHqwtZ86GfdLiWYogvK6fCCodS7XJhZhShst79wCKxaRAkb3f', 'pubkey': '03372bff61963d9ef1165f7c6f0b65d5e1b6eca39411df80ab4995e0c1103e8024'}, {'path': \"m/44'/0'/0'/0/8\", 'address': '1NAazj6JPtvJiN7sjcrdKaABd2umRCeo28', 'privkey': 'KzT1uR61rr47XfaZwWMNkWtbFyZ6D1XV5ZVzoip3qmokcPuz4EyL', 'pubkey': '0325ed3699c4194975ae51a72fac7284994bcfaf0c9fd1105466305cf3517c6a5d'}, {'path': \"m/44'/0'/0'/0/9\", 'address': '15NJSehv32SRmEbattG9WnbwYZDxJ38qCh', 'privkey': 'Kx62KAgWP3WYu1GsZfNRV8znfQNmVjCSmdQWih6u2Ck3WWzDMYY1', 'pubkey': '03dbc0664fa66c0746791382643bf6ac8e5836ce4376c7026214681e6397602de7'}]\n"
     ]
    }
   ],
   "source": [
    "accounts = json.loads(output)\n",
    "print(accounts)"
   ]
  },
  {
   "cell_type": "code",
   "execution_count": 28,
   "metadata": {},
   "outputs": [
    {
     "data": {
      "text/plain": [
       "list"
      ]
     },
     "execution_count": 28,
     "metadata": {},
     "output_type": "execute_result"
    }
   ],
   "source": [
    "type(accounts)"
   ]
  },
  {
   "cell_type": "code",
   "execution_count": 29,
   "metadata": {},
   "outputs": [
    {
     "data": {
      "text/plain": [
       "{'path': \"m/44'/0'/0'/0/0\",\n",
       " 'address': '1JCKe2TFnfiiPfvjoRyQdMQesmfbT4DAW5',\n",
       " 'privkey': 'L1sqesymPh8g7xh5tKenxLhamKX8BQxzbvHTUL4AwcjoxDGmFB3p',\n",
       " 'pubkey': '02694501a9f1e5a4e3b00038bd08df9ea744136c738d2d76e48e2da9d6678a5ad9'}"
      ]
     },
     "execution_count": 29,
     "metadata": {},
     "output_type": "execute_result"
    }
   ],
   "source": [
    "accounts[0]"
   ]
  },
  {
   "cell_type": "code",
   "execution_count": null,
   "metadata": {},
   "outputs": [],
   "source": []
  }
 ],
 "metadata": {
  "kernelspec": {
   "display_name": "Python 3",
   "language": "python",
   "name": "python3"
  },
  "language_info": {
   "codemirror_mode": {
    "name": "ipython",
    "version": 3
   },
   "file_extension": ".py",
   "mimetype": "text/x-python",
   "name": "python",
   "nbconvert_exporter": "python",
   "pygments_lexer": "ipython3",
   "version": "3.7.4"
  }
 },
 "nbformat": 4,
 "nbformat_minor": 4
}
